{
 "cells": [
  {
   "cell_type": "markdown",
   "metadata": {},
   "source": [
    "# Chessboard Vision Project  \n",
    "\n",
    "## 📌 Introduction  \n",
    "This project is part of the **Computer Vision** course in the Master's in Artificial Intelligence. The goal is to detect chess pieces on a board from images, determine their positions using bounding boxes, and represent them in an 8x8 matrix format. The solution is implemented in Python and follows a structured image processing pipeline.\n",
    "\n",
    "## 🎯 Task Overview  \n",
    "- **Input:** Chessboard image  \n",
    "- **Output:**  \n",
    "  - Total number of black/white pieces  \n",
    "  - Bounding boxes around detected pieces  \n",
    "  - 8x8 matrix representing piece positions  \n",
    "- **Dataset:** 50 images for development, 10 unseen test images  \n",
    "- **Deliverables:**  \n",
    "  - Python script (single file)  \n",
    "  - Short report (max 2 pages) \n",
    "\n",
    "---"
   ]
  },
  {
   "cell_type": "code",
   "execution_count": 2,
   "metadata": {},
   "outputs": [],
   "source": [
    "# Importing Libraries\n",
    "import numpy as np\n",
    "import pandas as pd\n",
    "import matplotlib.pyplot as plt\n",
    "import os\n",
    "import cv2\n",
    "import math\n",
    "\n",
    "# Data Directory\n",
    "dataDir = 'images'"
   ]
  },
  {
   "cell_type": "markdown",
   "metadata": {},
   "source": [
    "---\n",
    "\n",
    "## First Image Test"
   ]
  },
  {
   "cell_type": "code",
   "execution_count": 11,
   "metadata": {},
   "outputs": [
    {
     "name": "stdout",
     "output_type": "stream",
     "text": [
      "Image Dimensions: 3072 x 3072\n",
      "Number of Channels: 3\n"
     ]
    }
   ],
   "source": [
    "# Define the desired window size\n",
    "window_width = 800\n",
    "window_height = 600\n",
    "\n",
    "# Read and Display an Image\n",
    "# Opening an image\n",
    "img = cv2.imread(os.path.join(dataDir, 'G000_IMG062.jpg'))\n",
    "\n",
    "# Get the dimensions of the image\n",
    "height, width, channels = img.shape\n",
    "print(f'Image Dimensions: {height} x {width}')\n",
    "print(f'Number of Channels: {channels}')\n",
    "\n",
    "# Calculate the scaling factor\n",
    "scaling_factor = min(window_width / width, window_height / height)\n",
    "\n",
    "# Resize the image\n",
    "resized_img = cv2.resize(img, None, fx=scaling_factor, fy=scaling_factor, interpolation=cv2.INTER_AREA)\n",
    "\n",
    "# Showing the resized image\n",
    "cv2.imshow('G000_IMG062.jpg', resized_img)\n",
    "\n",
    "# Wait for a key press to close the window\n",
    "cv2.waitKey(0)\n",
    "\n",
    "# Close the window after the key press\n",
    "cv2.destroyWindow('G000_IMG062.jpg')"
   ]
  },
  {
   "cell_type": "markdown",
   "metadata": {},
   "source": [
    "---"
   ]
  }
 ],
 "metadata": {
  "kernelspec": {
   "display_name": "Python 3",
   "language": "python",
   "name": "python3"
  },
  "language_info": {
   "codemirror_mode": {
    "name": "ipython",
    "version": 3
   },
   "file_extension": ".py",
   "mimetype": "text/x-python",
   "name": "python",
   "nbconvert_exporter": "python",
   "pygments_lexer": "ipython3",
   "version": "3.13.1"
  }
 },
 "nbformat": 4,
 "nbformat_minor": 2
}
